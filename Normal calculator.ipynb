{
 "cells": [
  {
   "cell_type": "markdown",
   "id": "dea9a9c9",
   "metadata": {},
   "source": [
    "# Normal calculator"
   ]
  },
  {
   "cell_type": "code",
   "execution_count": 2,
   "id": "ab3afa4e",
   "metadata": {},
   "outputs": [
    {
     "name": "stdout",
     "output_type": "stream",
     "text": [
      "\n",
      "....Select an operation to perform....\n",
      "    1.Additional\n",
      "    2.Subtract\n",
      "    3.Multiply\n",
      "    4.Divide\n",
      "    5.Modulus\n",
      "5\n",
      "Enter your first number:50\n",
      "Enter your second number:15\n",
      "The sum is 3\n"
     ]
    }
   ],
   "source": [
    "print(\"\"\"\n",
    "....Select an operation to perform....\n",
    "    1.Additional\n",
    "    2.Subtract\n",
    "    3.Multiply\n",
    "    4.Divide\n",
    "    5.Modulus\"\"\")\n",
    "\n",
    "operation = input()\n",
    "\n",
    "if operation == \"1\":\n",
    "    num1 = input(\"Enter your first number:\")\n",
    "    num2 = input(\"Enter your second number:\")\n",
    "    print(\"The sum is \" + str(int(num1) + int(num2)))\n",
    "    print(f'')\n",
    "elif operation == \"2\":\n",
    "    num1 = input(\"Enter your first number:\")\n",
    "    num2 = input(\"Enter your second number:\")\n",
    "    print(\"The sum is \" + str(int(num1) - int(num2)))\n",
    "elif operation == \"3\":\n",
    "    num1 = input(\"Enter your first number:\")\n",
    "    num2 = input(\"Enter your second number:\")\n",
    "    print(\"The sum is \" + str(int(num1) * int(num2)))\n",
    "elif operation == \"4\":\n",
    "    num1 = input(\"Enter your first number:\")\n",
    "    num2 = input(\"Enter your second number:\")\n",
    "    print(\"The sum is \" + str(int(num1) / int(num2)))\n",
    "elif operation == \"5\":\n",
    "    num1 = input(\"Enter your first number:\")\n",
    "    num2 = input(\"Enter your second number:\")\n",
    "    print(\"The sum is \" + str(int(num1) // int(num2)))\n",
    "else:\n",
    "    print(\"Invalid number\")"
   ]
  },
  {
   "cell_type": "code",
   "execution_count": null,
   "id": "8b359d24",
   "metadata": {},
   "outputs": [],
   "source": []
  }
 ],
 "metadata": {
  "kernelspec": {
   "display_name": "Python 3 (ipykernel)",
   "language": "python",
   "name": "python3"
  },
  "language_info": {
   "codemirror_mode": {
    "name": "ipython",
    "version": 3
   },
   "file_extension": ".py",
   "mimetype": "text/x-python",
   "name": "python",
   "nbconvert_exporter": "python",
   "pygments_lexer": "ipython3",
   "version": "3.11.3"
  }
 },
 "nbformat": 4,
 "nbformat_minor": 5
}
