{
 "cells": [
  {
   "cell_type": "code",
   "execution_count": 1,
   "id": "aba0ced4",
   "metadata": {},
   "outputs": [],
   "source": [
    "import tkinter as tk"
   ]
  },
  {
   "cell_type": "code",
   "execution_count": 2,
   "id": "8c9d767f",
   "metadata": {},
   "outputs": [],
   "source": [
    "calculation = \"\""
   ]
  },
  {
   "cell_type": "code",
   "execution_count": 3,
   "id": "11c66603",
   "metadata": {},
   "outputs": [],
   "source": [
    "def add_to_calculator(symbol):\n",
    "    global calculation\n",
    "    calculation += str(symbol)\n",
    "    text_result.delete(1.0, \"end\")\n",
    "    text_result.insert(1.0, calculation)"
   ]
  },
  {
   "cell_type": "code",
   "execution_count": 4,
   "id": "9264b0b6",
   "metadata": {},
   "outputs": [],
   "source": [
    "def evaluate_calculation():\n",
    "    global calculation\n",
    "    try:\n",
    "        calculation = str(eval(calculation))\n",
    "        text_result.delete(1.0, \"end\")\n",
    "        text_result.insert(1.0, calculation)\n",
    "    except:\n",
    "        clear_field()\n",
    "        text_result.insert(1.0, \"error\")"
   ]
  },
  {
   "cell_type": "code",
   "execution_count": 5,
   "id": "d1bd0c78",
   "metadata": {},
   "outputs": [],
   "source": [
    "def clear_field():\n",
    "    global calculation\n",
    "    calculation = \"\"\n",
    "    text_result.delete(1.0, \"end\")\n",
    "    pass"
   ]
  },
  {
   "cell_type": "code",
   "execution_count": 6,
   "id": "6aaed17a",
   "metadata": {},
   "outputs": [],
   "source": [
    "root = tk.Tk()\n",
    "root.title(\"Simple Calculator\")\n",
    "root.geometry(\"300x275\")\n",
    "root.iconbitmap(r'C:\\Users\\Dileep\\Downloads\\calculator.ico')\n",
    "\n",
    "text_result = tk.Text(root, height=2, width=17, font=('Arial', 24))\n",
    "text_result.grid(columnspan=5)\n",
    "\n",
    "button1 = tk.Button(root, text=\"1\", command=lambda: add_to_calculator(1), width=5, font=('Arial', 14))\n",
    "button1.grid(row=2, column=1)\n",
    "button2 = tk.Button(root, text=\"2\", command=lambda: add_to_calculator(2), width=5, font=('Arial', 14))\n",
    "button2.grid(row=2, column=2)\n",
    "button3 = tk.Button(root, text=\"3\", command=lambda: add_to_calculator(3), width=5, font=('Arial', 14))\n",
    "button3.grid(row=2, column=3)\n",
    "button4 = tk.Button(root, text=\"4\", command=lambda: add_to_calculator(4), width=5, font=('Arial', 14))\n",
    "button4.grid(row=3, column=1)\n",
    "button5 = tk.Button(root, text=\"5\", command=lambda: add_to_calculator(5), width=5, font=('Arial', 14))\n",
    "button5.grid(row=3, column=2)\n",
    "button6 = tk.Button(root, text=\"6\", command=lambda: add_to_calculator(6), width=5, font=('Arial', 14))\n",
    "button6.grid(row=3, column=3)\n",
    "button7 = tk.Button(root, text=\"7\", command=lambda: add_to_calculator(7), width=5, font=('Arial', 14))\n",
    "button7.grid(row=4, column=1)\n",
    "button8 = tk.Button(root, text=\"8\", command=lambda: add_to_calculator(8), width=5, font=('Arial', 14))\n",
    "button8.grid(row=4, column=2)\n",
    "button9 = tk.Button(root, text=\"9\", command=lambda: add_to_calculator(9), width=5, font=('Arial', 14))\n",
    "button9.grid(row=4, column=3)\n",
    "button0 = tk.Button(root, text=\"0\", command=lambda: add_to_calculator(0), width=5, font=('Arial', 14))\n",
    "button0.grid(row=5, column=2)\n",
    "button_plus = tk.Button(root, text=\"+\", command=lambda: add_to_calculator(\"+\"), width=5, font=('Arial', 14))\n",
    "button_plus.grid(row=2, column=4)\n",
    "button_minus = tk.Button(root, text=\"-\", command=lambda: add_to_calculator(\"-\"), width=5, font=('Arial', 14))\n",
    "button_minus.grid(row=3, column=4)\n",
    "button_mul = tk.Button(root, text=\"*\", command=lambda: add_to_calculator(\"*\"), width=5, font=('Arial', 14))\n",
    "button_mul.grid(row=4, column=4)\n",
    "button_div = tk.Button(root, text=\"/\", command=lambda: add_to_calculator(\"/\"), width=5, font=('Arial', 14))\n",
    "button_div.grid(row=5, column=4)\n",
    "button_open = tk.Button(root, text=\"(\", command=lambda: add_to_calculator(\"(\"), width=5, font=('Arial', 14))\n",
    "button_open.grid(row=5, column=1)\n",
    "button_close = tk.Button(root, text=\")\", command=lambda: add_to_calculator(\")\"), width=5, font=('Arial', 14))\n",
    "button_close.grid(row=5, column=3)\n",
    "button_clear = tk.Button(root, text=\"C\", command=clear_field, width=11, font=('Arial', 14))\n",
    "button_clear.grid(row=6, column=1, columnspan=2)\n",
    "button_equals = tk.Button(root, text=\"=\", command=evaluate_calculation, width=11, font=('Arial', 14))\n",
    "button_equals.grid(row=6, column=3, columnspan=2)\n",
    "root.mainloop()"
   ]
  },
  {
   "cell_type": "code",
   "execution_count": null,
   "id": "ae2c59d6",
   "metadata": {},
   "outputs": [],
   "source": []
  },
  {
   "cell_type": "code",
   "execution_count": null,
   "id": "c906d4ec",
   "metadata": {},
   "outputs": [],
   "source": []
  }
 ],
 "metadata": {
  "kernelspec": {
   "display_name": "Python 3 (ipykernel)",
   "language": "python",
   "name": "python3"
  },
  "language_info": {
   "codemirror_mode": {
    "name": "ipython",
    "version": 3
   },
   "file_extension": ".py",
   "mimetype": "text/x-python",
   "name": "python",
   "nbconvert_exporter": "python",
   "pygments_lexer": "ipython3",
   "version": "3.11.3"
  }
 },
 "nbformat": 4,
 "nbformat_minor": 5
}
