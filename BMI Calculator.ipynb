{
 "cells": [
  {
   "cell_type": "markdown",
   "id": "d8ca3fc0",
   "metadata": {},
   "source": [
    "# BMI Calculator"
   ]
  },
  {
   "cell_type": "code",
   "execution_count": 1,
   "id": "79a8a1d5",
   "metadata": {},
   "outputs": [],
   "source": [
    "#BMI = (weight in pound * 703 ) / (height in inches * height in inches)"
   ]
  },
  {
   "cell_type": "code",
   "execution_count": 3,
   "id": "4d1fb72f",
   "metadata": {},
   "outputs": [
    {
     "name": "stdout",
     "output_type": "stream",
     "text": [
      "Enter your name:-P\n",
      "Enter your weight in pounds:176\n",
      "Enter your height in inches:5\n",
      "4949.12\n",
      "P You are morbidly obese.\n"
     ]
    }
   ],
   "source": [
    "name = input(\"Enter your name:-\")\n",
    "weight = int(input(\"Enter your weight in pounds:\"))\n",
    "height = int(input(\"Enter your height in inches:\"))\n",
    "BMI = (weight * 703 ) / (height * height)\n",
    "print(BMI)\n",
    "if BMI>0:\n",
    "    if (BMI<18.5):\n",
    "        print(name,\"You are underweight.\")\n",
    "    elif (BMI<=24.9):\n",
    "        print(name,\"You are Normal weight.\")\n",
    "    elif (BMI<29.9):\n",
    "        print(name,\"You are Overweight.\")\n",
    "    elif (BMI<34.9):\n",
    "        print(name,\"You are Obese.\")\n",
    "    elif (BMI<39.9):\n",
    "        print(name,\"You are Severely obese.\")\n",
    "    else:\n",
    "        print(name,\"You are morbidly obese.\")\n",
    "else:\n",
    "    print(\"Enter vaild input\")"
   ]
  },
  {
   "cell_type": "code",
   "execution_count": null,
   "id": "db454fcc",
   "metadata": {},
   "outputs": [],
   "source": []
  }
 ],
 "metadata": {
  "kernelspec": {
   "display_name": "Python 3 (ipykernel)",
   "language": "python",
   "name": "python3"
  },
  "language_info": {
   "codemirror_mode": {
    "name": "ipython",
    "version": 3
   },
   "file_extension": ".py",
   "mimetype": "text/x-python",
   "name": "python",
   "nbconvert_exporter": "python",
   "pygments_lexer": "ipython3",
   "version": "3.11.3"
  }
 },
 "nbformat": 4,
 "nbformat_minor": 5
}
